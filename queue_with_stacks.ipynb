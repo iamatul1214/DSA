{
  "nbformat": 4,
  "nbformat_minor": 0,
  "metadata": {
    "colab": {
      "name": "queue_with_stacks.ipynb",
      "provenance": [],
      "authorship_tag": "ABX9TyOWFYWwxyjX9sPwbxLqMyMY",
      "include_colab_link": true
    },
    "kernelspec": {
      "name": "python3",
      "display_name": "Python 3"
    },
    "language_info": {
      "name": "python"
    }
  },
  "cells": [
    {
      "cell_type": "markdown",
      "metadata": {
        "id": "view-in-github",
        "colab_type": "text"
      },
      "source": [
        "<a href=\"https://colab.research.google.com/github/iamatul1214/DSA/blob/main/queue_with_stacks.ipynb\" target=\"_parent\"><img src=\"https://colab.research.google.com/assets/colab-badge.svg\" alt=\"Open In Colab\"/></a>"
      ]
    },
    {
      "cell_type": "code",
      "execution_count": 70,
      "metadata": {
        "id": "8NIZ9aYcg83T"
      },
      "outputs": [],
      "source": [
        "class Queue_with_Stack():\n",
        "  def __init__(self):\n",
        "    self.stack1 = []\n",
        "    self.stack2 = []\n",
        "  def isEmpty(self):\n",
        "    return len(self.stack1) == 0\n",
        "  def size(self):\n",
        "    return len(self.stack1)\n",
        "  def rear(self):\n",
        "    return self.stack1[-1]\n",
        "  def front(self):\n",
        "    return self.stack1[0]\n",
        "  def push(self,item):\n",
        "    self.stack1.append(item)\n",
        "    return f\"Pushed {item} successfully\"\n",
        "  def pop(self):\n",
        "    for i in range(len(self.stack1)):\n",
        "      self.stack2.append(self.stack1.pop())\n",
        "    popped = self.stack2.pop()\n",
        "    for i in range(len(self.stack2)):\n",
        "      self.stack1.append(self.stack2.pop())\n",
        "    return f\"Popped element --> {popped}\"\n",
        "    \n",
        "  "
      ]
    },
    {
      "cell_type": "code",
      "source": [
        "qs = Queue_with_Stack()"
      ],
      "metadata": {
        "id": "XxqTQWvylB5q"
      },
      "execution_count": 71,
      "outputs": []
    },
    {
      "cell_type": "code",
      "source": [
        "qs.push(\"a\")"
      ],
      "metadata": {
        "colab": {
          "base_uri": "https://localhost:8080/",
          "height": 36
        },
        "id": "eVs3YHpilEfw",
        "outputId": "879fdf5f-20f0-4611-c5b2-f0e7c0a91435"
      },
      "execution_count": 72,
      "outputs": [
        {
          "output_type": "execute_result",
          "data": {
            "text/plain": [
              "'Pushed a successfully'"
            ],
            "application/vnd.google.colaboratory.intrinsic+json": {
              "type": "string"
            }
          },
          "metadata": {},
          "execution_count": 72
        }
      ]
    },
    {
      "cell_type": "code",
      "source": [
        "qs.push(\"b\")\n",
        "qs.push(\"c\")\n",
        "qs.push(\"d\")\n",
        "qs.push(\"e\")"
      ],
      "metadata": {
        "colab": {
          "base_uri": "https://localhost:8080/",
          "height": 36
        },
        "id": "kvI1K-N7lW6S",
        "outputId": "d8dfbe00-ae4d-4342-fdad-e22e80ec4e7d"
      },
      "execution_count": 73,
      "outputs": [
        {
          "output_type": "execute_result",
          "data": {
            "text/plain": [
              "'Pushed e successfully'"
            ],
            "application/vnd.google.colaboratory.intrinsic+json": {
              "type": "string"
            }
          },
          "metadata": {},
          "execution_count": 73
        }
      ]
    },
    {
      "cell_type": "code",
      "source": [
        "qs.stack1"
      ],
      "metadata": {
        "colab": {
          "base_uri": "https://localhost:8080/"
        },
        "id": "AwV7gOBZle6h",
        "outputId": "5c7d4178-6d45-4d8f-fc93-5904cde4f9af"
      },
      "execution_count": 74,
      "outputs": [
        {
          "output_type": "execute_result",
          "data": {
            "text/plain": [
              "['a', 'b', 'c', 'd', 'e']"
            ]
          },
          "metadata": {},
          "execution_count": 74
        }
      ]
    },
    {
      "cell_type": "code",
      "source": [
        "qs.front()"
      ],
      "metadata": {
        "colab": {
          "base_uri": "https://localhost:8080/",
          "height": 36
        },
        "id": "K3eAUVrqlhQ_",
        "outputId": "5038dc23-73a5-403d-d3cd-268583eb408b"
      },
      "execution_count": 77,
      "outputs": [
        {
          "output_type": "execute_result",
          "data": {
            "text/plain": [
              "'a'"
            ],
            "application/vnd.google.colaboratory.intrinsic+json": {
              "type": "string"
            }
          },
          "metadata": {},
          "execution_count": 77
        }
      ]
    },
    {
      "cell_type": "code",
      "source": [
        "qs.rear()"
      ],
      "metadata": {
        "id": "iZ_TnM9-tRLW",
        "outputId": "2b9ee1fa-a59f-4a6b-de7f-28e2cc185496",
        "colab": {
          "base_uri": "https://localhost:8080/",
          "height": 36
        }
      },
      "execution_count": 82,
      "outputs": [
        {
          "output_type": "execute_result",
          "data": {
            "text/plain": [
              "'e'"
            ],
            "application/vnd.google.colaboratory.intrinsic+json": {
              "type": "string"
            }
          },
          "metadata": {},
          "execution_count": 82
        }
      ]
    },
    {
      "cell_type": "code",
      "source": [
        "qs.pop()"
      ],
      "metadata": {
        "colab": {
          "base_uri": "https://localhost:8080/",
          "height": 36
        },
        "id": "u_mFqLG8lmo9",
        "outputId": "f46bd71b-bcb5-451a-d194-bb778415388c"
      },
      "execution_count": 79,
      "outputs": [
        {
          "output_type": "execute_result",
          "data": {
            "text/plain": [
              "'Popped element --> a'"
            ],
            "application/vnd.google.colaboratory.intrinsic+json": {
              "type": "string"
            }
          },
          "metadata": {},
          "execution_count": 79
        }
      ]
    },
    {
      "cell_type": "code",
      "source": [
        "qs.stack2"
      ],
      "metadata": {
        "colab": {
          "base_uri": "https://localhost:8080/"
        },
        "id": "vrRkJu64oBOM",
        "outputId": "488fb759-8c59-4230-fe62-2994eb18dcef"
      },
      "execution_count": 80,
      "outputs": [
        {
          "output_type": "execute_result",
          "data": {
            "text/plain": [
              "[]"
            ]
          },
          "metadata": {},
          "execution_count": 80
        }
      ]
    },
    {
      "cell_type": "code",
      "source": [
        "qs.stack1"
      ],
      "metadata": {
        "colab": {
          "base_uri": "https://localhost:8080/"
        },
        "id": "K5qt_hLooK31",
        "outputId": "552b26a3-e0e1-4d00-b017-1801bfce94b0"
      },
      "execution_count": 81,
      "outputs": [
        {
          "output_type": "execute_result",
          "data": {
            "text/plain": [
              "['b', 'c', 'd', 'e']"
            ]
          },
          "metadata": {},
          "execution_count": 81
        }
      ]
    },
    {
      "cell_type": "code",
      "source": [
        "qs.size()"
      ],
      "metadata": {
        "id": "GoIjsB5hrw5M",
        "outputId": "c841b295-4aa9-495c-b4dd-41d3bf25ffb6",
        "colab": {
          "base_uri": "https://localhost:8080/"
        }
      },
      "execution_count": 83,
      "outputs": [
        {
          "output_type": "execute_result",
          "data": {
            "text/plain": [
              "4"
            ]
          },
          "metadata": {},
          "execution_count": 83
        }
      ]
    },
    {
      "cell_type": "code",
      "source": [
        "qs.push('f')"
      ],
      "metadata": {
        "id": "HCVbOMFhrzV_",
        "outputId": "f1786eb7-f42b-46ae-c50b-61b603a0ae17",
        "colab": {
          "base_uri": "https://localhost:8080/",
          "height": 36
        }
      },
      "execution_count": 84,
      "outputs": [
        {
          "output_type": "execute_result",
          "data": {
            "text/plain": [
              "'Pushed f successfully'"
            ],
            "application/vnd.google.colaboratory.intrinsic+json": {
              "type": "string"
            }
          },
          "metadata": {},
          "execution_count": 84
        }
      ]
    },
    {
      "cell_type": "code",
      "source": [
        "qs.pop()"
      ],
      "metadata": {
        "id": "k9ZsvQtSr1_5",
        "outputId": "89a9fc7d-4f95-48c0-c0e0-a4582fa21f22",
        "colab": {
          "base_uri": "https://localhost:8080/",
          "height": 36
        }
      },
      "execution_count": 85,
      "outputs": [
        {
          "output_type": "execute_result",
          "data": {
            "text/plain": [
              "'Popped element --> b'"
            ],
            "application/vnd.google.colaboratory.intrinsic+json": {
              "type": "string"
            }
          },
          "metadata": {},
          "execution_count": 85
        }
      ]
    },
    {
      "cell_type": "code",
      "source": [
        "qs.front()"
      ],
      "metadata": {
        "id": "004OoAoAr4R7",
        "outputId": "f89672e0-dbb2-40a1-8f42-dbc791263834",
        "colab": {
          "base_uri": "https://localhost:8080/",
          "height": 36
        }
      },
      "execution_count": 86,
      "outputs": [
        {
          "output_type": "execute_result",
          "data": {
            "text/plain": [
              "'c'"
            ],
            "application/vnd.google.colaboratory.intrinsic+json": {
              "type": "string"
            }
          },
          "metadata": {},
          "execution_count": 86
        }
      ]
    },
    {
      "cell_type": "code",
      "source": [
        "qs.rear()"
      ],
      "metadata": {
        "id": "5Z035eTIsXjp",
        "outputId": "c424f39d-e56a-4007-e3ab-0b0fb2df5c69",
        "colab": {
          "base_uri": "https://localhost:8080/",
          "height": 36
        }
      },
      "execution_count": 87,
      "outputs": [
        {
          "output_type": "execute_result",
          "data": {
            "text/plain": [
              "'f'"
            ],
            "application/vnd.google.colaboratory.intrinsic+json": {
              "type": "string"
            }
          },
          "metadata": {},
          "execution_count": 87
        }
      ]
    },
    {
      "cell_type": "code",
      "source": [
        "qs.stack1"
      ],
      "metadata": {
        "id": "H9iCkppityhI",
        "outputId": "b0e9c048-69be-4a3e-b9fa-4b8fa352ee9e",
        "colab": {
          "base_uri": "https://localhost:8080/"
        }
      },
      "execution_count": 88,
      "outputs": [
        {
          "output_type": "execute_result",
          "data": {
            "text/plain": [
              "['c', 'd', 'e', 'f']"
            ]
          },
          "metadata": {},
          "execution_count": 88
        }
      ]
    },
    {
      "cell_type": "code",
      "source": [
        ""
      ],
      "metadata": {
        "id": "pvFdcEB0t0ER"
      },
      "execution_count": null,
      "outputs": []
    }
  ]
}