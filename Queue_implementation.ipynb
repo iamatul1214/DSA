{
  "nbformat": 4,
  "nbformat_minor": 0,
  "metadata": {
    "colab": {
      "name": "Queue implementation.ipynb",
      "provenance": [],
      "authorship_tag": "ABX9TyNe6zpGHTwNMKzTRATlhWJc",
      "include_colab_link": true
    },
    "kernelspec": {
      "name": "python3",
      "display_name": "Python 3"
    },
    "language_info": {
      "name": "python"
    }
  },
  "cells": [
    {
      "cell_type": "markdown",
      "metadata": {
        "id": "view-in-github",
        "colab_type": "text"
      },
      "source": [
        "<a href=\"https://colab.research.google.com/github/iamatul1214/DSA/blob/main/Queue_implementation.ipynb\" target=\"_parent\"><img src=\"https://colab.research.google.com/assets/colab-badge.svg\" alt=\"Open In Colab\"/></a>"
      ]
    },
    {
      "cell_type": "markdown",
      "source": [
        "## Following functions are present in queue-\n",
        "#### Enqueue: Adds an item to the queue. If the queue is full, then it is said to be an Overflow condition – Time Complexity : O(1)\n",
        "#### Dequeue: Removes an item from the queue. The items are popped in the same order in which they are pushed. If the queue is empty, then it is said to be an Underflow condition – Time Complexity : O(1)\n",
        "#### Front: Get the front item from queue – Time Complexity : O(1)\n",
        "#### Rear: Get the last item from queue – Time Complexity : O(1)"
      ],
      "metadata": {
        "id": "PKsPJOxz7erG"
      }
    },
    {
      "cell_type": "code",
      "execution_count": 20,
      "metadata": {
        "id": "0pXTQMvM7RQR"
      },
      "outputs": [],
      "source": [
        "class Queue():\n",
        "  def __init__(self):\n",
        "    self.queue = []\n",
        "  def isempty(self):\n",
        "    return len(self.queue) == 0\n",
        "  def enqueue(self, item):\n",
        "    self.queue.append(item)\n",
        "    return f\"{item} inserted successfully\"\n",
        "  def dequeue(self):\n",
        "    self.queue.pop()\n",
        "  def front(self):\n",
        "    return f\"At front --> {self.queue[0]}\"\n",
        "  def rear(self):\n",
        "    return f\"At rear --> {self.queue[-1]}\""
      ]
    },
    {
      "cell_type": "code",
      "source": [
        "q = Queue()"
      ],
      "metadata": {
        "id": "stIMdI0Q8ZwW"
      },
      "execution_count": 21,
      "outputs": []
    },
    {
      "cell_type": "code",
      "source": [
        "q.isempty()"
      ],
      "metadata": {
        "colab": {
          "base_uri": "https://localhost:8080/"
        },
        "id": "PhsO_Uip8njZ",
        "outputId": "06a35daf-a0a5-4a53-c81e-d27a12e0fa62"
      },
      "execution_count": 22,
      "outputs": [
        {
          "output_type": "execute_result",
          "data": {
            "text/plain": [
              "True"
            ]
          },
          "metadata": {},
          "execution_count": 22
        }
      ]
    },
    {
      "cell_type": "code",
      "source": [
        "q.enqueue(\"Atul\")"
      ],
      "metadata": {
        "colab": {
          "base_uri": "https://localhost:8080/",
          "height": 35
        },
        "id": "7UxMUIlD8ply",
        "outputId": "2bbcbe4c-6253-4ca1-b2b1-67448328f446"
      },
      "execution_count": 23,
      "outputs": [
        {
          "output_type": "execute_result",
          "data": {
            "text/plain": [
              "'Atul inserted successfully'"
            ],
            "application/vnd.google.colaboratory.intrinsic+json": {
              "type": "string"
            }
          },
          "metadata": {},
          "execution_count": 23
        }
      ]
    },
    {
      "cell_type": "code",
      "source": [
        "q.enqueue(\"Atul1\")\n",
        "q.enqueue(\"Atul2\")\n",
        "q.enqueue(\"Atul3\")\n",
        "q.enqueue(\"Atul4\")\n",
        "q.enqueue(\"Atul5\")"
      ],
      "metadata": {
        "colab": {
          "base_uri": "https://localhost:8080/",
          "height": 35
        },
        "id": "lVhYfOBR8sMR",
        "outputId": "bc24e8f9-4e2d-4074-abd5-576d03821522"
      },
      "execution_count": 24,
      "outputs": [
        {
          "output_type": "execute_result",
          "data": {
            "text/plain": [
              "'Atul5 inserted successfully'"
            ],
            "application/vnd.google.colaboratory.intrinsic+json": {
              "type": "string"
            }
          },
          "metadata": {},
          "execution_count": 24
        }
      ]
    },
    {
      "cell_type": "code",
      "source": [
        "q.queue"
      ],
      "metadata": {
        "colab": {
          "base_uri": "https://localhost:8080/"
        },
        "id": "Sk0PR0ZX9f9a",
        "outputId": "a443b52a-489c-49b7-805f-70d465ff2bde"
      },
      "execution_count": 30,
      "outputs": [
        {
          "output_type": "execute_result",
          "data": {
            "text/plain": [
              "['Atul', 'Atul1', 'Atul2', 'Atul3']"
            ]
          },
          "metadata": {},
          "execution_count": 30
        }
      ]
    },
    {
      "cell_type": "code",
      "source": [
        "q.dequeue()"
      ],
      "metadata": {
        "id": "u2lAKag59k6k"
      },
      "execution_count": 29,
      "outputs": []
    },
    {
      "cell_type": "code",
      "source": [
        "q.front()"
      ],
      "metadata": {
        "colab": {
          "base_uri": "https://localhost:8080/",
          "height": 35
        },
        "id": "0d-KJPec9n67",
        "outputId": "d81cc3fe-3f4b-46f7-ec76-22b8d3a55d58"
      },
      "execution_count": 31,
      "outputs": [
        {
          "output_type": "execute_result",
          "data": {
            "text/plain": [
              "'At front --> Atul'"
            ],
            "application/vnd.google.colaboratory.intrinsic+json": {
              "type": "string"
            }
          },
          "metadata": {},
          "execution_count": 31
        }
      ]
    },
    {
      "cell_type": "code",
      "source": [
        "q.rear()"
      ],
      "metadata": {
        "colab": {
          "base_uri": "https://localhost:8080/",
          "height": 35
        },
        "id": "RJNrKzzQ9pdp",
        "outputId": "65c58e39-3e41-4e83-ebf1-da409b8dc643"
      },
      "execution_count": 32,
      "outputs": [
        {
          "output_type": "execute_result",
          "data": {
            "text/plain": [
              "'At rear --> Atul3'"
            ],
            "application/vnd.google.colaboratory.intrinsic+json": {
              "type": "string"
            }
          },
          "metadata": {},
          "execution_count": 32
        }
      ]
    },
    {
      "cell_type": "code",
      "source": [
        ""
      ],
      "metadata": {
        "id": "O0a3E_bY90HF"
      },
      "execution_count": null,
      "outputs": []
    }
  ]
}