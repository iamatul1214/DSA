{
  "nbformat": 4,
  "nbformat_minor": 0,
  "metadata": {
    "colab": {
      "name": "Queue implementation.ipynb",
      "provenance": [],
      "authorship_tag": "ABX9TyMwHJreozYFUFAjOaA959Te",
      "include_colab_link": true
    },
    "kernelspec": {
      "name": "python3",
      "display_name": "Python 3"
    },
    "language_info": {
      "name": "python"
    }
  },
  "cells": [
    {
      "cell_type": "markdown",
      "metadata": {
        "id": "view-in-github",
        "colab_type": "text"
      },
      "source": [
        "<a href=\"https://colab.research.google.com/github/iamatul1214/DSA/blob/main/Queue_implementation.ipynb\" target=\"_parent\"><img src=\"https://colab.research.google.com/assets/colab-badge.svg\" alt=\"Open In Colab\"/></a>"
      ]
    },
    {
      "cell_type": "markdown",
      "source": [
        "## Following functions are present in queue-\n",
        "#### Enqueue: Adds an item to the queue. If the queue is full, then it is said to be an Overflow condition – Time Complexity : O(1)\n",
        "#### Dequeue: Removes an item from the queue. The items are popped in the same order in which they are pushed. If the queue is empty, then it is said to be an Underflow condition – Time Complexity : O(1)\n",
        "#### Front: Get the front item from queue – Time Complexity : O(1)\n",
        "#### Rear: Get the last item from queue – Time Complexity : O(1)"
      ],
      "metadata": {
        "id": "PKsPJOxz7erG"
      }
    },
    {
      "cell_type": "code",
      "execution_count": 16,
      "metadata": {
        "id": "0pXTQMvM7RQR"
      },
      "outputs": [],
      "source": [
        "class Queue():\n",
        "  def __init__(self):\n",
        "    self.queue = []\n",
        "  def isempty(self):\n",
        "    return len(self.queue) == 0\n",
        "  def enqueue(self, item):\n",
        "    self.queue.append(item)\n",
        "    return f\"{item} inserted successfully\"\n",
        "  def dequeue(self):\n",
        "    self.queue.pop(0)\n",
        "  def front(self):\n",
        "    return f\"At front --> {self.queue[0]}\"\n",
        "  def rear(self):\n",
        "    return f\"At rear --> {self.queue[-1]}\""
      ]
    },
    {
      "cell_type": "code",
      "source": [
        "q = Queue()"
      ],
      "metadata": {
        "id": "stIMdI0Q8ZwW"
      },
      "execution_count": 17,
      "outputs": []
    },
    {
      "cell_type": "code",
      "source": [
        "q.isempty()"
      ],
      "metadata": {
        "colab": {
          "base_uri": "https://localhost:8080/"
        },
        "id": "PhsO_Uip8njZ",
        "outputId": "a82abbe3-5b9e-46d0-ec36-442d633ba758"
      },
      "execution_count": 18,
      "outputs": [
        {
          "output_type": "execute_result",
          "data": {
            "text/plain": [
              "True"
            ]
          },
          "metadata": {},
          "execution_count": 18
        }
      ]
    },
    {
      "cell_type": "code",
      "source": [
        "q.enqueue(\"Atul\")"
      ],
      "metadata": {
        "colab": {
          "base_uri": "https://localhost:8080/",
          "height": 36
        },
        "id": "7UxMUIlD8ply",
        "outputId": "223ae826-c52b-45c4-a78c-b4bb1089e96f"
      },
      "execution_count": 19,
      "outputs": [
        {
          "output_type": "execute_result",
          "data": {
            "text/plain": [
              "'Atul inserted successfully'"
            ],
            "application/vnd.google.colaboratory.intrinsic+json": {
              "type": "string"
            }
          },
          "metadata": {},
          "execution_count": 19
        }
      ]
    },
    {
      "cell_type": "code",
      "source": [
        "q.enqueue(\"Atul1\")\n",
        "q.enqueue(\"Atul2\")\n",
        "q.enqueue(\"Atul3\")\n",
        "q.enqueue(\"Atul4\")\n",
        "q.enqueue(\"Atul5\")"
      ],
      "metadata": {
        "colab": {
          "base_uri": "https://localhost:8080/",
          "height": 36
        },
        "id": "lVhYfOBR8sMR",
        "outputId": "8d059502-e4b8-4e0c-e5f5-29f35b4df94c"
      },
      "execution_count": 20,
      "outputs": [
        {
          "output_type": "execute_result",
          "data": {
            "text/plain": [
              "'Atul5 inserted successfully'"
            ],
            "application/vnd.google.colaboratory.intrinsic+json": {
              "type": "string"
            }
          },
          "metadata": {},
          "execution_count": 20
        }
      ]
    },
    {
      "cell_type": "code",
      "source": [
        "q.queue"
      ],
      "metadata": {
        "colab": {
          "base_uri": "https://localhost:8080/"
        },
        "id": "Sk0PR0ZX9f9a",
        "outputId": "5f5d42be-4caf-4098-a789-514adcacb6e0"
      },
      "execution_count": 25,
      "outputs": [
        {
          "output_type": "execute_result",
          "data": {
            "text/plain": [
              "['Atul2', 'Atul3', 'Atul4', 'Atul5']"
            ]
          },
          "metadata": {},
          "execution_count": 25
        }
      ]
    },
    {
      "cell_type": "code",
      "source": [
        "q.dequeue()"
      ],
      "metadata": {
        "id": "u2lAKag59k6k"
      },
      "execution_count": 24,
      "outputs": []
    },
    {
      "cell_type": "code",
      "source": [
        "q.front()"
      ],
      "metadata": {
        "colab": {
          "base_uri": "https://localhost:8080/",
          "height": 36
        },
        "id": "0d-KJPec9n67",
        "outputId": "884354f9-26e8-49c5-ba3b-41c18d55ebf9"
      },
      "execution_count": 26,
      "outputs": [
        {
          "output_type": "execute_result",
          "data": {
            "text/plain": [
              "'At front --> Atul2'"
            ],
            "application/vnd.google.colaboratory.intrinsic+json": {
              "type": "string"
            }
          },
          "metadata": {},
          "execution_count": 26
        }
      ]
    },
    {
      "cell_type": "code",
      "source": [
        "q.rear()"
      ],
      "metadata": {
        "colab": {
          "base_uri": "https://localhost:8080/",
          "height": 36
        },
        "id": "RJNrKzzQ9pdp",
        "outputId": "9fc48339-40ce-40a9-d829-5e6e9f028819"
      },
      "execution_count": 27,
      "outputs": [
        {
          "output_type": "execute_result",
          "data": {
            "text/plain": [
              "'At rear --> Atul5'"
            ],
            "application/vnd.google.colaboratory.intrinsic+json": {
              "type": "string"
            }
          },
          "metadata": {},
          "execution_count": 27
        }
      ]
    },
    {
      "cell_type": "code",
      "source": [
        ""
      ],
      "metadata": {
        "id": "O0a3E_bY90HF"
      },
      "execution_count": null,
      "outputs": []
    }
  ]
}