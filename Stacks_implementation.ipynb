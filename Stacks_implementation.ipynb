{
  "nbformat": 4,
  "nbformat_minor": 0,
  "metadata": {
    "colab": {
      "name": "Stacks implementation.ipynb",
      "provenance": [],
      "authorship_tag": "ABX9TyMYX+Vev8NHdgYUjOXs9/bK",
      "include_colab_link": true
    },
    "kernelspec": {
      "name": "python3",
      "display_name": "Python 3"
    },
    "language_info": {
      "name": "python"
    }
  },
  "cells": [
    {
      "cell_type": "markdown",
      "metadata": {
        "id": "view-in-github",
        "colab_type": "text"
      },
      "source": [
        "<a href=\"https://colab.research.google.com/github/iamatul1214/DSA/blob/main/Stacks_implementation.ipynb\" target=\"_parent\"><img src=\"https://colab.research.google.com/assets/colab-badge.svg\" alt=\"Open In Colab\"/></a>"
      ]
    },
    {
      "cell_type": "markdown",
      "source": [
        "## Here we will implement stacks using list in python in object oriented manner"
      ],
      "metadata": {
        "id": "1RmNFSs73R1y"
      }
    },
    {
      "cell_type": "markdown",
      "source": [
        "## The functions associated with stack are:\n",
        "\n",
        "### empty() – Returns whether the stack is empty – Time Complexity: O(1)\n",
        "### size() – Returns the size of the stack – Time Complexity: O(1)\n",
        "### top() / peek() – Returns a reference to the topmost element of the stack – Time Complexity: O(1)\n",
        "### push(a) – Inserts the element ‘a’ at the top of the stack – Time Complexity: O(1)\n",
        "### pop() – Deletes the topmost element of the stack – Time Complexity: O(1)"
      ],
      "metadata": {
        "id": "khG_Sgfv4XBB"
      }
    },
    {
      "cell_type": "code",
      "execution_count": 17,
      "metadata": {
        "id": "qiVr_O_z3BKM"
      },
      "outputs": [],
      "source": [
        "class Stacks():\n",
        "  def __init__(self):  ## initalizing an empty list whenever stacks object is created\n",
        "    self.items = []\n",
        "\n",
        "  def isEmplty(self):   ## checking if stack is empty\n",
        "    return self.items == []\n",
        "\n",
        "  def push(self, item):\n",
        "    self.items.append(item)\n",
        "    return f\"{item} pushed successfully\"\n",
        "\n",
        "  def pop(self):\n",
        "    self.items.pop()\n",
        "    # return f\"popped {self.items[len(self.items)]} successfully\"\n",
        "\n",
        "  def size(self):\n",
        "    return len(self.items)\n",
        "\n",
        "  def peek(self):\n",
        "    return self.items[len(self.items)-1]\n",
        "\n",
        "  "
      ]
    },
    {
      "cell_type": "code",
      "source": [
        "s = Stacks()"
      ],
      "metadata": {
        "id": "FEhr2nvD5OP-"
      },
      "execution_count": 18,
      "outputs": []
    },
    {
      "cell_type": "code",
      "source": [
        "s.size()"
      ],
      "metadata": {
        "colab": {
          "base_uri": "https://localhost:8080/"
        },
        "id": "UDowtrhR5WEH",
        "outputId": "2dc7d73a-6124-47a5-aac8-51f2e9e0d475"
      },
      "execution_count": 19,
      "outputs": [
        {
          "output_type": "execute_result",
          "data": {
            "text/plain": [
              "0"
            ]
          },
          "metadata": {},
          "execution_count": 19
        }
      ]
    },
    {
      "cell_type": "code",
      "source": [
        "s.push(\"first element\")"
      ],
      "metadata": {
        "colab": {
          "base_uri": "https://localhost:8080/",
          "height": 36
        },
        "id": "al4xh6IE5XiR",
        "outputId": "58fcc811-e6a7-44d7-dd9c-22b024b3c536"
      },
      "execution_count": 20,
      "outputs": [
        {
          "output_type": "execute_result",
          "data": {
            "text/plain": [
              "'first element pushed successfully'"
            ],
            "application/vnd.google.colaboratory.intrinsic+json": {
              "type": "string"
            }
          },
          "metadata": {},
          "execution_count": 20
        }
      ]
    },
    {
      "cell_type": "code",
      "source": [
        "s.size()"
      ],
      "metadata": {
        "colab": {
          "base_uri": "https://localhost:8080/"
        },
        "id": "UyPc1dE85ZHk",
        "outputId": "1cf1fe04-13e2-4925-82c3-bfbfe99ba69d"
      },
      "execution_count": 21,
      "outputs": [
        {
          "output_type": "execute_result",
          "data": {
            "text/plain": [
              "1"
            ]
          },
          "metadata": {},
          "execution_count": 21
        }
      ]
    },
    {
      "cell_type": "code",
      "source": [
        "s.push(2)"
      ],
      "metadata": {
        "colab": {
          "base_uri": "https://localhost:8080/",
          "height": 36
        },
        "id": "1esatGAf5hAj",
        "outputId": "02dc4f68-7d35-4796-8c30-049bbaa32b13"
      },
      "execution_count": 22,
      "outputs": [
        {
          "output_type": "execute_result",
          "data": {
            "text/plain": [
              "'2 pushed successfully'"
            ],
            "application/vnd.google.colaboratory.intrinsic+json": {
              "type": "string"
            }
          },
          "metadata": {},
          "execution_count": 22
        }
      ]
    },
    {
      "cell_type": "code",
      "source": [
        "s.peek()"
      ],
      "metadata": {
        "colab": {
          "base_uri": "https://localhost:8080/"
        },
        "id": "0OzjMJj85jPv",
        "outputId": "96bf5e09-4f00-4b31-bdc0-9c6a94427651"
      },
      "execution_count": 23,
      "outputs": [
        {
          "output_type": "execute_result",
          "data": {
            "text/plain": [
              "2"
            ]
          },
          "metadata": {},
          "execution_count": 23
        }
      ]
    },
    {
      "cell_type": "code",
      "source": [
        "s.pop()"
      ],
      "metadata": {
        "id": "Ubu3AYzz5k6e"
      },
      "execution_count": 24,
      "outputs": []
    },
    {
      "cell_type": "code",
      "source": [
        "s.peek()"
      ],
      "metadata": {
        "colab": {
          "base_uri": "https://localhost:8080/",
          "height": 36
        },
        "id": "w8QNPPOh5l9F",
        "outputId": "98f12d66-9a76-4fd3-ee90-2c69e037bd6b"
      },
      "execution_count": 25,
      "outputs": [
        {
          "output_type": "execute_result",
          "data": {
            "text/plain": [
              "'first element'"
            ],
            "application/vnd.google.colaboratory.intrinsic+json": {
              "type": "string"
            }
          },
          "metadata": {},
          "execution_count": 25
        }
      ]
    },
    {
      "cell_type": "code",
      "source": [
        ""
      ],
      "metadata": {
        "id": "J28EbCx26EOS"
      },
      "execution_count": null,
      "outputs": []
    }
  ]
}